{
 "cells": [
  {
   "cell_type": "markdown",
   "metadata": {
    "deletable": true,
    "editable": true
   },
   "source": [
    "# 04. 모듈 개발 : 강화학습 기반 주식투자 시스템 개발 (2) - Agent 모듈 개발"
   ]
  },
  {
   "cell_type": "markdown",
   "metadata": {
    "deletable": true,
    "editable": true
   },
   "source": [
    "<img src=\"figures/cap01.jpeg\" width=600 />\n",
    "<img src=\"figures/cap02.jpeg\" width=600 />\n",
    "<img src=\"figures/cap03.jpeg\" width=600 />\n",
    "<img src=\"figures/cap04.jpeg\" width=600 />"
   ]
  },
  {
   "cell_type": "markdown",
   "metadata": {
    "deletable": true,
    "editable": true
   },
   "source": [
    "# 4.2 RLTrader의 구조 "
   ]
  },
  {
   "cell_type": "markdown",
   "metadata": {
    "deletable": true,
    "editable": true
   },
   "source": [
    "## 4.2.1 모듈 구조"
   ]
  },
  {
   "cell_type": "markdown",
   "metadata": {
    "deletable": true,
    "editable": true
   },
   "source": [
    "<img src=\"figures/cap05.jpeg\" width=600 />"
   ]
  },
  {
   "cell_type": "markdown",
   "metadata": {
    "deletable": true,
    "editable": true
   },
   "source": [
    "## 4.2.2 디레토리 구조"
   ]
  },
  {
   "cell_type": "code",
   "execution_count": 3,
   "metadata": {
    "collapsed": false,
    "deletable": true,
    "editable": true
   },
   "outputs": [
    {
     "name": "stdout",
     "output_type": "stream",
     "text": [
      "agent_custom.py         \u001b[0m\u001b[01;34mimg\u001b[0m/                 policy_network_dnn.py\r\n",
      "agent.py                LICENSE              policy_network.py\r\n",
      "creon.py                main_custom.py       portal.py\r\n",
      "\u001b[01;34mdata\u001b[0m/                   _main_notraining.py  preprocessor.ipynb\r\n",
      "data_manager_custom.py  main_notraining.py   README.md\r\n",
      "data_manager.py         main.py              settings.py\r\n",
      "environment.py          policy_learner.py    visualizer.py\r\n"
     ]
    }
   ],
   "source": [
    "%ls ../rltrader/"
   ]
  },
  {
   "cell_type": "markdown",
   "metadata": {
    "deletable": true,
    "editable": true
   },
   "source": [
    "## 4.2.3 에이전트 모듈 개요"
   ]
  },
  {
   "cell_type": "markdown",
   "metadata": {
    "deletable": true,
    "editable": true
   },
   "source": [
    "Agent 클래스 (Agent)\n",
    "* 투자자 역할 하는 클래스\n",
    "* 내부 상태 : 초기 자본금, 현금 잔고, 주식 잔고\n",
    "* 포트폴리오 가치(PV)\n",
    "    * PV = 주식 잔고 X 현재 주가 + 현금 잔고\n"
   ]
  },
  {
   "cell_type": "markdown",
   "metadata": {
    "deletable": true,
    "editable": true
   },
   "source": [
    "## 4.2.4 환경 모듈 개요"
   ]
  },
  {
   "cell_type": "markdown",
   "metadata": {
    "deletable": true,
    "editable": true
   },
   "source": [
    "환경 클래스 (Environment)\n",
    "* 에이전트가 투자할 차트 데이터를 관리함\n",
    "* 과거 시점부터 가장 최근 시점까지 순차적으로 데이터를 제공\n",
    "* 학습을 위해 과거로 돌아간 에이전트는, 미래의 차트 데이터는 알 수 없다.\n"
   ]
  },
  {
   "cell_type": "markdown",
   "metadata": {
    "deletable": true,
    "editable": true
   },
   "source": [
    "## 4.2.5 정책 신경망 모듈 개요"
   ]
  },
  {
   "cell_type": "markdown",
   "metadata": {
    "deletable": true,
    "editable": true
   },
   "source": [
    "정책 신경망 클래스(PolicyNetwork)\n",
    "* 특정 시점의 주식 데이터(sample)가 제공되었을 때\n",
    "    * 매수 또는\n",
    "    * 매도\n",
    "    * 를 결정하는 뇌와 같은 역할\n",
    "* LSTM으로 구성되어 있고, 매수와 매도 행위에 대해 PV를 높일 수 있을지의 확률을 계산\n",
    "* RLTrader는 정책 신경망을 통해 주식 잔고를 늘릴지 줄일지를 결정.\n",
    "    * 주식 데이터 -> 정책 신경망 -> 매수와 매도의 확률이 나오고 그 중 확률이 가장 높은 것을 선택\n"
   ]
  },
  {
   "cell_type": "markdown",
   "metadata": {
    "deletable": true,
    "editable": true
   },
   "source": [
    "## 4.2.6 가시화기 모듈 개요"
   ]
  },
  {
   "cell_type": "markdown",
   "metadata": {
    "deletable": true,
    "editable": true
   },
   "source": [
    "주식 데이터 학습 과정을 직관적으로 파악하기 위해  환경, 에이전트 상태, 정책 신경망 출력 등을 그림 파일로 시각화"
   ]
  },
  {
   "cell_type": "markdown",
   "metadata": {
    "deletable": true,
    "editable": true
   },
   "source": [
    "## 4.2.7 정책 학습기 모듈 개요"
   ]
  },
  {
   "cell_type": "markdown",
   "metadata": {
    "deletable": true,
    "editable": true
   },
   "source": [
    "정책 학습기 클래스 \n",
    "* 앞의 모듈들을 가지고 강화학습을 수행\n",
    "* RLTrader의 몸체\n",
    "* 학습 데이터를 가지고 있음\n",
    "* 정책 신경망을 학습시킴"
   ]
  },
  {
   "cell_type": "markdown",
   "metadata": {
    "deletable": true,
    "editable": true
   },
   "source": [
    "# 4.4 에이전트 모듈 개발"
   ]
  },
  {
   "cell_type": "markdown",
   "metadata": {
    "deletable": true,
    "editable": true
   },
   "source": [
    "## 4.4.1 에이전트 모듈의 주요 속성과 함수"
   ]
  },
  {
   "cell_type": "markdown",
   "metadata": {
    "collapsed": true,
    "deletable": true,
    "editable": true
   },
   "source": [
    "## 속성\n",
    "* STATE_DIM = 2  # 주식 보유 비율, 포트폴리오 가치 비율\n",
    "\n",
    "##### 매매 수수료 및 세금\n",
    "* TRADING_CHARGE = 0  # 거래 수수료 미고려 (일반적으로 0.015%)\n",
    "* TRADING_TAX = 0  # 거래세 미고려 (실제 0.3%)\n",
    "\n",
    "##### 행동\n",
    "* ACTION_BUY = 0  # 매수\n",
    "* ACTION_SELL = 1  # 매도\n",
    "* ACTION_HOLD = 2  # 홀딩\n",
    "* ACTIONS = [ACTION_BUY, ACTION_SELL]  # 인공 신경망에서 확률을 구할 행동들\n",
    "* NUM_ACTIONS = len(ACTIONS)  # 인공 신경망에서 고려할 출력값의 개수\n",
    "\n",
    "* environment  # 현재 주식 가격을 가져오기 위해 환경 참조\n",
    "\n",
    "##### 최소 매매 단위, 최대 매매 단위, 지연보상 임계치\n",
    "* min_trading_unit  # 최소 단일 거래 단위\n",
    "* max_trading_unit  # 최대 단일 거래 단위\n",
    "* delayed_reward_threshold  # 지연보상 임계치\n",
    "\n",
    "##### Agent 클래스의 속성\n",
    "* initial_balance = 0  # 초기 자본금\n",
    "* balance = 0  # 현재 현금 잔고\n",
    "* num_stocks = 0  # 보유 주식 수\n",
    "* portfolio_value = 0  # balance + num_stocks * {현재 주식 가격}\n",
    "* base_portfolio_value = 0  # 직전 학습 시점의 PV\n",
    "* num_buy = 0  # 매수 횟수\n",
    "* num_sell = 0  # 매도 횟수\n",
    "* num_hold = 0  # 홀딩 횟수\n",
    "* immediate_reward = 0  # 즉시 보상\n",
    "\n",
    "##### Agent 클래스의 상태\n",
    "* ratio_hold = 0  # 주식 보유 비율\n",
    "* ratio_portfolio_value = 0  # 포트폴리오 가치 비율"
   ]
  },
  {
   "cell_type": "markdown",
   "metadata": {
    "collapsed": true,
    "deletable": true,
    "editable": true
   },
   "source": [
    "## 함수\n",
    "* \\__init\\__ <- environment, min_trading_unit=1, max_trading_unit=2, delayed_reward_threshold=.05\n",
    "* reset\n",
    "* set_balance <- balance\n",
    "* get_states  \n",
    "* decide_action <- policy_network, sample, epsilon\n",
    "* validate_action <- action\n",
    "* decide_trading_unit <- confidence\n",
    "* act <- action, confidence"
   ]
  },
  {
   "cell_type": "code",
   "execution_count": 17,
   "metadata": {
    "collapsed": true,
    "deletable": true,
    "editable": true
   },
   "outputs": [],
   "source": [
    "import agent as AGT"
   ]
  },
  {
   "cell_type": "code",
   "execution_count": 16,
   "metadata": {
    "collapsed": true,
    "deletable": true,
    "editable": true
   },
   "outputs": [],
   "source": [
    "import importlib as imp "
   ]
  },
  {
   "cell_type": "code",
   "execution_count": 18,
   "metadata": {
    "collapsed": true,
    "deletable": true,
    "editable": true
   },
   "outputs": [],
   "source": [
    "agent = AGT.Agent()"
   ]
  },
  {
   "cell_type": "code",
   "execution_count": 19,
   "metadata": {
    "collapsed": false,
    "deletable": true,
    "editable": true
   },
   "outputs": [
    {
     "data": {
      "text/plain": [
       "['__class__',\n",
       " '__delattr__',\n",
       " '__dict__',\n",
       " '__dir__',\n",
       " '__doc__',\n",
       " '__eq__',\n",
       " '__format__',\n",
       " '__ge__',\n",
       " '__getattribute__',\n",
       " '__gt__',\n",
       " '__hash__',\n",
       " '__init__',\n",
       " '__le__',\n",
       " '__lt__',\n",
       " '__module__',\n",
       " '__ne__',\n",
       " '__new__',\n",
       " '__reduce__',\n",
       " '__reduce_ex__',\n",
       " '__repr__',\n",
       " '__setattr__',\n",
       " '__sizeof__',\n",
       " '__str__',\n",
       " '__subclasshook__',\n",
       " '__weakref__']"
      ]
     },
     "execution_count": 19,
     "metadata": {},
     "output_type": "execute_result"
    }
   ],
   "source": [
    "dir(agent)"
   ]
  },
  {
   "cell_type": "markdown",
   "metadata": {
    "deletable": true,
    "editable": true
   },
   "source": [
    "------------------------"
   ]
  },
  {
   "cell_type": "code",
   "execution_count": null,
   "metadata": {
    "collapsed": true,
    "deletable": true,
    "editable": true
   },
   "outputs": [],
   "source": [
    "img.reload(AGT)"
   ]
  },
  {
   "cell_type": "code",
   "execution_count": null,
   "metadata": {
    "collapsed": true,
    "deletable": true,
    "editable": true
   },
   "outputs": [],
   "source": [
    "agent = AGT.Agent()"
   ]
  },
  {
   "cell_type": "code",
   "execution_count": null,
   "metadata": {
    "collapsed": true,
    "deletable": true,
    "editable": true
   },
   "outputs": [],
   "source": [
    "agent.reset()"
   ]
  },
  {
   "cell_type": "code",
   "execution_count": null,
   "metadata": {
    "collapsed": true,
    "deletable": true,
    "editable": true
   },
   "outputs": [],
   "source": [
    "agent.set_balance(balance)"
   ]
  },
  {
   "cell_type": "code",
   "execution_count": null,
   "metadata": {
    "collapsed": true,
    "deletable": true,
    "editable": true
   },
   "outputs": [],
   "source": [
    "agent.get_states()"
   ]
  },
  {
   "cell_type": "code",
   "execution_count": null,
   "metadata": {
    "collapsed": true,
    "deletable": true,
    "editable": true
   },
   "outputs": [],
   "source": [
    "agent.decide_action(policy_network, sample, epsilon)"
   ]
  },
  {
   "cell_type": "code",
   "execution_count": null,
   "metadata": {
    "collapsed": true,
    "deletable": true,
    "editable": true
   },
   "outputs": [],
   "source": [
    "agent.validate_action(action)"
   ]
  },
  {
   "cell_type": "code",
   "execution_count": null,
   "metadata": {
    "collapsed": true,
    "deletable": true,
    "editable": true
   },
   "outputs": [],
   "source": [
    "agent.decide_trading_unit(confidence)"
   ]
  },
  {
   "cell_type": "code",
   "execution_count": null,
   "metadata": {
    "collapsed": true,
    "deletable": true,
    "editable": true
   },
   "outputs": [],
   "source": [
    "agent.act(action, confidence)"
   ]
  },
  {
   "cell_type": "markdown",
   "metadata": {
    "deletable": true,
    "editable": true
   },
   "source": [
    "## 4.4.2 코드 조각 1 : 에이전트 클래스의 상수 선언 부분"
   ]
  },
  {
   "cell_type": "markdown",
   "metadata": {
    "deletable": true,
    "editable": true
   },
   "source": [
    "## 4.4.3 코드 조각 2 : 에이전트 클래스의 생성자 부분"
   ]
  },
  {
   "cell_type": "markdown",
   "metadata": {
    "deletable": true,
    "editable": true
   },
   "source": [
    "## 4.4.3 코드 조각 3 : 에이전트 클래스의 함수 부분"
   ]
  },
  {
   "cell_type": "code",
   "execution_count": null,
   "metadata": {
    "collapsed": true,
    "deletable": true,
    "editable": true
   },
   "outputs": [],
   "source": [
    "get/set"
   ]
  },
  {
   "cell_type": "code",
   "execution_count": null,
   "metadata": {
    "collapsed": true,
    "deletable": true,
    "editable": true
   },
   "outputs": [],
   "source": [
    "유효성 검사"
   ]
  },
  {
   "cell_type": "code",
   "execution_count": null,
   "metadata": {
    "collapsed": true,
    "deletable": true,
    "editable": true
   },
   "outputs": [],
   "source": [
    "매수/매도 단위 결정 함수"
   ]
  },
  {
   "cell_type": "code",
   "execution_count": null,
   "metadata": {
    "collapsed": true,
    "deletable": true,
    "editable": true
   },
   "outputs": [],
   "source": [
    "투자 행동 수행 함수(행동 준비)"
   ]
  },
  {
   "cell_type": "code",
   "execution_count": null,
   "metadata": {
    "collapsed": true,
    "deletable": true,
    "editable": true
   },
   "outputs": [],
   "source": [
    "투자 행동 수행 함수(매수)"
   ]
  },
  {
   "cell_type": "code",
   "execution_count": null,
   "metadata": {
    "collapsed": true,
    "deletable": true,
    "editable": true
   },
   "outputs": [],
   "source": [
    "투자 행동 수행 함수(매도 및 관망)"
   ]
  },
  {
   "cell_type": "code",
   "execution_count": null,
   "metadata": {
    "collapsed": true,
    "deletable": true,
    "editable": true
   },
   "outputs": [],
   "source": [
    "투자 행동 수행 함수(포트폴리오 가치 갱신 및 지연 보상 판단)"
   ]
  }
 ],
 "metadata": {
  "kernelspec": {
   "display_name": "Python 3",
   "language": "python",
   "name": "python3"
  },
  "language_info": {
   "codemirror_mode": {
    "name": "ipython",
    "version": 3
   },
   "file_extension": ".py",
   "mimetype": "text/x-python",
   "name": "python",
   "nbconvert_exporter": "python",
   "pygments_lexer": "ipython3",
   "version": "3.5.2"
  }
 },
 "nbformat": 4,
 "nbformat_minor": 2
}
